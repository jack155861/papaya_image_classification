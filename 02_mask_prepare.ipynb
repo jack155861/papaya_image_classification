{
 "cells": [
  {
   "cell_type": "code",
   "execution_count": 1,
   "id": "f62bc2c4",
   "metadata": {
    "collapsed": true
   },
   "outputs": [
    {
     "name": "stdout",
     "output_type": "stream",
     "text": [
      "\u001b[33mWARNING: Retrying (Retry(total=4, connect=None, read=None, redirect=None, status=None)) after connection broken by 'NewConnectionError('<pip._vendor.urllib3.connection.HTTPSConnection object at 0x7f8d98effa00>: Failed to establish a new connection: [Errno 8] nodename nor servname provided, or not known')': /simple/rembg/\u001b[0m\u001b[33m\n",
      "\u001b[0m\u001b[33mWARNING: Retrying (Retry(total=3, connect=None, read=None, redirect=None, status=None)) after connection broken by 'NewConnectionError('<pip._vendor.urllib3.connection.HTTPSConnection object at 0x7f8d98effcd0>: Failed to establish a new connection: [Errno 8] nodename nor servname provided, or not known')': /simple/rembg/\u001b[0m\u001b[33m\n",
      "\u001b[0m\u001b[33mWARNING: Retrying (Retry(total=2, connect=None, read=None, redirect=None, status=None)) after connection broken by 'NewConnectionError('<pip._vendor.urllib3.connection.HTTPSConnection object at 0x7f8d98efff70>: Failed to establish a new connection: [Errno 8] nodename nor servname provided, or not known')': /simple/rembg/\u001b[0m\u001b[33m\n",
      "\u001b[0m\u001b[33mWARNING: Retrying (Retry(total=1, connect=None, read=None, redirect=None, status=None)) after connection broken by 'NewConnectionError('<pip._vendor.urllib3.connection.HTTPSConnection object at 0x7f8d98f2b0a0>: Failed to establish a new connection: [Errno 8] nodename nor servname provided, or not known')': /simple/rembg/\u001b[0m\u001b[33m\n",
      "\u001b[0m\u001b[33mWARNING: Retrying (Retry(total=0, connect=None, read=None, redirect=None, status=None)) after connection broken by 'NewConnectionError('<pip._vendor.urllib3.connection.HTTPSConnection object at 0x7f8d98f2b2e0>: Failed to establish a new connection: [Errno 8] nodename nor servname provided, or not known')': /simple/rembg/\u001b[0m\u001b[33m\n",
      "\u001b[0m\u001b[31mERROR: Could not find a version that satisfies the requirement rembg (from versions: none)\u001b[0m\u001b[31m\n",
      "\u001b[0m\u001b[31mERROR: No matching distribution found for rembg\u001b[0m\u001b[31m\n",
      "\u001b[0m\u001b[33mWARNING: There was an error checking the latest version of pip.\u001b[0m\u001b[33m\n",
      "\u001b[0m"
     ]
    }
   ],
   "source": [
    "#!pip install rembg"
   ]
  },
  {
   "cell_type": "code",
   "execution_count": 6,
   "id": "98fb06e4",
   "metadata": {},
   "outputs": [],
   "source": [
    "from rembg import remove\n",
    "import cv2, os\n",
    "import numpy as np\n",
    "from PIL import Image"
   ]
  },
  {
   "cell_type": "code",
   "execution_count": 2,
   "id": "3880d3d8",
   "metadata": {},
   "outputs": [],
   "source": [
    "image_path = ['01_dataset/papaya/' + x for x in os.listdir('01_dataset/papaya')]"
   ]
  },
  {
   "cell_type": "code",
   "execution_count": null,
   "id": "498ee72f",
   "metadata": {},
   "outputs": [
    {
     "name": "stdout",
     "output_type": "stream",
     "text": [
      "0 3880\n",
      "10 3880\n",
      "20 3880\n",
      "30 3880\n",
      "40 3880\n",
      "50 3880\n",
      "60 3880\n",
      "70 3880\n",
      "80 3880\n",
      "90 3880\n",
      "100 3880\n",
      "110 3880\n",
      "120 3880\n",
      "130 3880\n",
      "140 3880\n",
      "150 3880\n",
      "160 3880\n",
      "170 3880\n",
      "180 3880\n",
      "190 3880\n",
      "200 3880\n",
      "210 3880\n",
      "220 3880\n",
      "230 3880\n",
      "240 3880\n",
      "250 3880\n",
      "260 3880\n",
      "270 3880\n",
      "280 3880\n",
      "290 3880\n",
      "300 3880\n",
      "310 3880\n",
      "320 3880\n"
     ]
    }
   ],
   "source": [
    "img_size = 320\n",
    "for img_ in image_path:\n",
    "    if image_path.index(img_)%10==0:\n",
    "        print(image_path.index(img_), len(image_path))\n",
    "    # read image\n",
    "    bgr_image = cv2.imread(img_)\n",
    "    # bgr to rgb\n",
    "    rgb_image = cv2.cvtColor(bgr_image, cv2.COLOR_BGR2RGB)\n",
    "    # padding to square\n",
    "    max_size = max(rgb_image.shape)\n",
    "    delta_w = max_size - rgb_image.shape[1]\n",
    "    delta_h = max_size - rgb_image.shape[0]\n",
    "    top, bottom = delta_h//2, delta_h-(delta_h//2)\n",
    "    left, right = delta_w//2, delta_w-(delta_w//2)\n",
    "    padding_image = cv2.copyMakeBorder(rgb_image, top, bottom, left, right, cv2.BORDER_CONSTANT, value=[255, 255, 255])\n",
    "    # resize\n",
    "    resize_image = cv2.resize(padding_image, (img_size, img_size), interpolation=cv2.INTER_AREA)\n",
    "    Image.fromarray(resize_image).save('02_padding_image/' + img_.split(\"/\")[-1], quality=100)\n",
    "    # remove background with api\n",
    "    rmbg_image = remove(resize_image)\n",
    "    # create mask\n",
    "    mask_image = rmbg_image[:,:,0].copy()\n",
    "    mask_image[rmbg_image[:,:,3]<=127] = 0\n",
    "    mask_image[rmbg_image[:,:,3]>127] = 255\n",
    "    mask_image = np.where(mask_image==0, 255, 0).astype(np.uint8)\n",
    "    #cv2.imwrite('02_mask_image/' + img_.split(\"/\")[-1], mask_image, [cv2.IMWRITE_JPEG_QUALITY, 100])\n",
    "    Image.fromarray(mask_image).save('02_mask_image/' + img_.split(\"/\")[-1], quality=100)\n",
    "    # finde border\n",
    "    #contours, hierarchy = cv2.findContours(mask_image,cv2.RETR_TREE,cv2.CHAIN_APPROX_SIMPLE) \n",
    "    #x_min, x_max = min(contours[1][:,0,0]), max(contours[1][:,0,0])\n",
    "    #y_min, y_max = min(contours[1][:,0,1]), max(contours[1][:,0,1])\n",
    "    #mask_image[y_min:y_max,x_min:x_max]"
   ]
  }
 ],
 "metadata": {
  "kernelspec": {
   "display_name": "Python 3 (ipykernel)",
   "language": "python",
   "name": "python3"
  },
  "language_info": {
   "codemirror_mode": {
    "name": "ipython",
    "version": 3
   },
   "file_extension": ".py",
   "mimetype": "text/x-python",
   "name": "python",
   "nbconvert_exporter": "python",
   "pygments_lexer": "ipython3",
   "version": "3.8.13"
  }
 },
 "nbformat": 4,
 "nbformat_minor": 5
}
