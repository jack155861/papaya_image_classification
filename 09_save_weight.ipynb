{
 "cells": [
  {
   "cell_type": "code",
   "execution_count": 1,
   "id": "973ee96d",
   "metadata": {},
   "outputs": [
    {
     "name": "stdout",
     "output_type": "stream",
     "text": [
      "Segmentation Models: using `tf.keras` framework.\n"
     ]
    }
   ],
   "source": [
    "import os\n",
    "import segmentation_models as sm\n",
    "import numpy as np\n",
    "from tensorflow.keras.applications.mobilenet_v2 import MobileNetV2, preprocess_input\n",
    "from tensorflow.keras.models import Model\n",
    "from tensorflow.keras import layers\n",
    "from tensorflow.keras.regularizers import l2"
   ]
  },
  {
   "cell_type": "markdown",
   "id": "0de45bc8",
   "metadata": {},
   "source": [
    "# save whole unet model architecture"
   ]
  },
  {
   "cell_type": "code",
   "execution_count": 6,
   "id": "12b2b15a",
   "metadata": {},
   "outputs": [],
   "source": [
    "def model_loading(file = '04_unet_training/best_model.h5', CLASSES = ['papaya'], img_size = 320):\n",
    "    os.environ[\"SM_FRAMEWORK\"] = \"tf.keras\"\n",
    "    BACKBONE = 'resnet18'\n",
    "    n_classes = 1 if len(CLASSES) == 1 else (len(CLASSES) + 1) \n",
    "    activation = 'sigmoid' if n_classes == 1 else 'softmax'\n",
    "    model = sm.Unet(BACKBONE, classes=n_classes, activation=activation, input_shape=(img_size, img_size*2, 3))\n",
    "    model.load_weights(file) \n",
    "    return model\n",
    "model_unet = model_loading()\n",
    "model_unet.save('08_final_weight/unet_resnet18.h5')"
   ]
  },
  {
   "cell_type": "markdown",
   "id": "4bd11810",
   "metadata": {},
   "source": [
    "# save whole classification model architecture"
   ]
  },
  {
   "cell_type": "code",
   "execution_count": 7,
   "id": "699bc7b4",
   "metadata": {},
   "outputs": [],
   "source": [
    "def model_build(activation_, normal_, l2_, pooling_, image_type):\n",
    "    if image_type=='merge':\n",
    "        base_model = MobileNetV2(weights='imagenet',include_top=False,input_shape=(224, 224, 3))\n",
    "    if image_type=='chanel3':\n",
    "        base_model = MobileNetV2(weights='imagenet',include_top=False,input_shape=(224, 224, 3))\n",
    "    if image_type=='chanel3_127':\n",
    "        base_model = MobileNetV2(weights='imagenet',include_top=False,input_shape=(224, 224, 3))\n",
    "    if image_type=='chanel6':\n",
    "        base_model = MobileNetV2(weights=None, include_top=False, input_shape=(224, 224, 6))\n",
    "    if image_type=='chanel12':\n",
    "        base_model = MobileNetV2(weights=None, include_top=False, input_shape=(224, 224, 12))\n",
    "    if image_type=='multi':\n",
    "        base_model_1 = MobileNetV2(weights='imagenet',include_top=False,input_shape=(224, 224, 3))\n",
    "        base_model_2 = MobileNetV2(weights='imagenet',include_top=False,input_shape=(224, 224, 3))\n",
    "        # 連接自訂層\n",
    "        for layer in base_model_1.layers:\n",
    "            layer._name = layer._name + str(\"_1\")\n",
    "        for w in base_model_1.weights:\n",
    "            w._handle_name = w.name + str(\"_1\")\n",
    "        for layer in base_model_2.layers:\n",
    "            layer._name = 'EP_' + layer._name + str(\"_2\")\n",
    "        for w in base_model_2.weights:\n",
    "            w._handle_name = 'EP_' + w.name + str(\"_2\")\n",
    "        base_model = layers.concatenate([base_model_1.output, base_model_2.output])\n",
    "    \n",
    "    if pooling_ == \"max\":\n",
    "        if image_type=='multi':\n",
    "            x = layers.GlobalMaxPooling2D()(base_model)\n",
    "        else:\n",
    "            x = layers.GlobalMaxPooling2D()(base_model.output)\n",
    "    if pooling_ == \"ave\":\n",
    "        if image_type=='multi':\n",
    "            x = layers.GlobalAveragePooling2D()(base_model)\n",
    "        else:\n",
    "            x = layers.GlobalAveragePooling2D()(base_model.output)\n",
    "    if pooling_ == \"conv\":\n",
    "        if image_type=='multi':\n",
    "            x = layers.Conv2D(1280, (7, 7), activation=\"relu\")(base_model)\n",
    "        else:\n",
    "            x = layers.Conv2D(1280, (7, 7), activation=\"relu\")(base_model.output)\n",
    "    if pooling_ == 'all':\n",
    "        x1 = layers.GlobalMaxPooling2D()(base_model.output)\n",
    "        x2 = layers.GlobalAveragePooling2D()(base_model.output)\n",
    "        x3 = layers.Conv2D(1280, (7, 7), activation=\"relu\")(base_model.output)\n",
    "        x3 = layers.BatchNormalization()(x3)\n",
    "        x3 = layers.Activation(activation_)(x3)\n",
    "        x3 = layers.Flatten()(x3)\n",
    "        x = layers.concatenate([x1, x2, x3])\n",
    "    \n",
    "    if pooling_ == \"conv\":\n",
    "        x = layers.BatchNormalization()(x)\n",
    "        x = layers.Activation(activation_)(x)\n",
    "        x = layers.Flatten()(x)\n",
    "    else:        \n",
    "        if normal_ == 'drop':\n",
    "            x = layers.Dropout(0.25)(x)\n",
    "        if normal_ == 'batch':\n",
    "            x = layers.BatchNormalization()(x)\n",
    "            x = layers.Activation(activation_)(x)\n",
    "        \n",
    "    x = layers.Dense(1024, activation=activation_, kernel_initializer='he_normal', kernel_regularizer=l2(float(l2_)))(x)    \n",
    "    if normal_ == 'drop':\n",
    "        x = layers.Dropout(0.25)(x)\n",
    "    if normal_ == 'batch':\n",
    "        x = layers.BatchNormalization()(x)\n",
    "        x = layers.Activation(activation_)(x)\n",
    "        \n",
    "    x = layers.Dense(256, activation=activation_, kernel_initializer='he_normal', kernel_regularizer=l2(float(l2_)))(x)\n",
    "    if normal_ == 'drop':\n",
    "        x = layers.Dropout(0.25)(x)\n",
    "    if normal_ == 'batch':\n",
    "        x = layers.BatchNormalization()(x)\n",
    "        x = layers.Activation(activation_)(x)\n",
    "        \n",
    "    x = layers.Dense(64, activation=activation_, kernel_initializer='he_normal', kernel_regularizer=l2(float(l2_)))(x)\n",
    "    if normal_ == 'drop':\n",
    "        x = layers.Dropout(0.25)(x)\n",
    "    if normal_ == 'batch':\n",
    "        x = layers.BatchNormalization()(x)\n",
    "        x = layers.Activation(activation_)(x)\n",
    "        \n",
    "    x = layers.Dense(6, activation='softmax')(x)\n",
    "\n",
    "    # 設定新模型的 inputs/outputs\n",
    "    if image_type=='multi':\n",
    "        model = Model(inputs=[base_model_1.input, base_model_2.input], outputs=x)\n",
    "    else:\n",
    "        model = Model(inputs=base_model.input, outputs=x)\n",
    "        \n",
    "    return model\n",
    "\n",
    "h5_route = '07_classification_training_chanel3/sgd/ave/relu_batch_0.1/weights_acc.h5'\n",
    "model_classification = model_build(activation_ = 'relu', normal_ = 'batch', l2_ = 0.1, \n",
    "                                   pooling_ = 'ave', image_type = 'chanel3')\n",
    "model_classification.load_weights(h5_route)\n",
    "model_classification.save('08_final_weight/classification_mobilenetv2.h5')"
   ]
  },
  {
   "cell_type": "code",
   "execution_count": null,
   "id": "0df44ed5",
   "metadata": {},
   "outputs": [],
   "source": []
  }
 ],
 "metadata": {
  "kernelspec": {
   "display_name": "Python 3 (ipykernel)",
   "language": "python",
   "name": "python3"
  },
  "language_info": {
   "codemirror_mode": {
    "name": "ipython",
    "version": 3
   },
   "file_extension": ".py",
   "mimetype": "text/x-python",
   "name": "python",
   "nbconvert_exporter": "python",
   "pygments_lexer": "ipython3",
   "version": "3.8.13"
  }
 },
 "nbformat": 4,
 "nbformat_minor": 5
}
